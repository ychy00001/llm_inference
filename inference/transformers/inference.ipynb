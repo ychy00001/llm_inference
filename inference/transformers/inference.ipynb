{
 "cells": [
  {
   "cell_type": "code",
   "execution_count": 1,
   "id": "8510e141-f471-4ff0-94e0-b7e409b58d2d",
   "metadata": {},
   "outputs": [],
   "source": [
    "from transformers import pipeline, AutoTokenizer, AutoModelForSequenceClassification"
   ]
  },
  {
   "cell_type": "code",
   "execution_count": 2,
   "id": "298f63f3-2ce0-4b0d-bc5a-e771626bf28b",
   "metadata": {},
   "outputs": [],
   "source": [
    "pt_save_directory = \"./bert-base-multilingual-uncased-sentiment\""
   ]
  },
  {
   "cell_type": "code",
   "execution_count": 3,
   "id": "1b6e9f28-02dd-4a0c-b916-0494d03a89b4",
   "metadata": {},
   "outputs": [],
   "source": [
    "pt_model = AutoModelForSequenceClassification.from_pretrained(pt_save_directory)\n",
    "pt_tokenizer = AutoTokenizer.from_pretrained(pt_save_directory)"
   ]
  },
  {
   "cell_type": "code",
   "execution_count": 4,
   "id": "edfe0f43-7932-4df6-825e-4584a803badd",
   "metadata": {},
   "outputs": [],
   "source": [
    "generator = pipeline(task=\"sentiment-analysis\", model=pt_model, tokenizer=pt_tokenizer)"
   ]
  },
  {
   "cell_type": "code",
   "execution_count": 5,
   "id": "a1ec857c-fb20-49f3-9399-096faa1ffd1b",
   "metadata": {
    "tags": []
   },
   "outputs": [
    {
     "data": {
      "text/plain": [
       "[{'label': '5 stars', 'score': 0.44038376212120056},\n",
       " {'label': '1 star', 'score': 0.8006991744041443}]"
      ]
     },
     "execution_count": 5,
     "metadata": {},
     "output_type": "execute_result"
    }
   ],
   "source": [
    "generator([\n",
    "        \"I'am a teacher\",\n",
    "        \"I hated this world\",\n",
    "    ])"
   ]
  },
  {
   "cell_type": "code",
   "execution_count": 10,
   "id": "9f6db21b-23b8-4cf6-9582-41a5a53fd140",
   "metadata": {},
   "outputs": [],
   "source": [
    "# 可以使用accelerate加速\n",
    "# pip install accelerate\n",
    "import torch\n",
    "pipe = pipeline(task=\"sentiment-analysis\", model=pt_model, tokenizer=pt_tokenizer, torch_dtype=torch.bfloat16, device_map=\"auto\")\n",
    "output = pipe(\"This is a cool example!\")"
   ]
  },
  {
   "cell_type": "code",
   "execution_count": 11,
   "id": "78db2eeb-84f8-48ac-a616-e9c5d762f268",
   "metadata": {},
   "outputs": [
    {
     "data": {
      "text/plain": [
       "[{'label': '5 stars', 'score': 0.5914577841758728}]"
      ]
     },
     "execution_count": 11,
     "metadata": {},
     "output_type": "execute_result"
    }
   ],
   "source": [
    "output"
   ]
  },
  {
   "cell_type": "code",
   "execution_count": 12,
   "id": "cd4f8c6a-c76d-4db1-8e60-19b2706e9da2",
   "metadata": {},
   "outputs": [],
   "source": [
    "# 可以使用8-bit 加载模型\n",
    "# pip install accelerate\n",
    "import torch\n",
    "pipe1 = pipeline(task=\"sentiment-analysis\", model=pt_model, tokenizer=pt_tokenizer, model_kwargs={\"load_in_8bit\": True}, device_map=\"auto\")\n",
    "output1 = pipe1(\"This is a cool example!\")"
   ]
  },
  {
   "cell_type": "code",
   "execution_count": 13,
   "id": "992c23d8-b5a9-4b35-8200-796febff6608",
   "metadata": {},
   "outputs": [
    {
     "data": {
      "text/plain": [
       "[{'label': '5 stars', 'score': 0.5914577841758728}]"
      ]
     },
     "execution_count": 13,
     "metadata": {},
     "output_type": "execute_result"
    }
   ],
   "source": [
    "output1"
   ]
  },
  {
   "cell_type": "code",
   "execution_count": null,
   "id": "59ff4803-6966-46f6-a5df-614890604a09",
   "metadata": {},
   "outputs": [],
   "source": [
    "import os\n",
    " \n",
    "pid = os.getpid()\n",
    "!kill -9 $pid"
   ]
  },
  {
   "cell_type": "code",
   "execution_count": null,
   "id": "6161b309-a551-4493-a859-6711991dcc75",
   "metadata": {},
   "outputs": [],
   "source": []
  }
 ],
 "metadata": {
  "kernelspec": {
   "display_name": "llm_inference",
   "language": "python",
   "name": "llm_inference"
  },
  "language_info": {
   "codemirror_mode": {
    "name": "ipython",
    "version": 3
   },
   "file_extension": ".py",
   "mimetype": "text/x-python",
   "name": "python",
   "nbconvert_exporter": "python",
   "pygments_lexer": "ipython3",
   "version": "3.8.16"
  }
 },
 "nbformat": 4,
 "nbformat_minor": 5
}
