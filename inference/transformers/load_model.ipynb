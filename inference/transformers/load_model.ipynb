{
 "cells": [
  {
   "cell_type": "code",
   "execution_count": 1,
   "id": "c43c5991-e9e9-4725-9f13-1dfb0423d478",
   "metadata": {},
   "outputs": [],
   "source": [
    "from transformers import AutoTokenizer, AutoModelForSequenceClassification"
   ]
  },
  {
   "cell_type": "code",
   "execution_count": 2,
   "id": "6b305823-fbb5-41c3-9420-5c9486b3845b",
   "metadata": {},
   "outputs": [],
   "source": [
    "pt_save_directory = \"./bert-base-multilingual-uncased-sentiment\"\n",
    "pt_model = AutoModelForSequenceClassification.from_pretrained(pt_save_directory)\n",
    "pt_tokenizer = AutoTokenizer.from_pretrained(pt_save_directory)"
   ]
  },
  {
   "cell_type": "code",
   "execution_count": 3,
   "id": "98bdf025-ca12-45c3-b580-87c34024b4d9",
   "metadata": {},
   "outputs": [],
   "source": [
    "# transformers支持模型转换 pytorch加载一个tf的模型，from_tf=True, 反之 from_pt=True\n",
    "#from transformers import AutoModel\n",
    "#tokenizer = AutoTokenizer.from_pretrained(\"./bert-base-multilingual-uncased-sentiment\")\n",
    "#pt_model = AutoModelForSequenceClassification.from_pretrained(\"./bert-base-multilingual-uncased-sentiment\", from_tf=True)"
   ]
  },
  {
   "cell_type": "code",
   "execution_count": 4,
   "id": "26c79fe5-1bd1-44c9-9397-8b19575ea0c3",
   "metadata": {},
   "outputs": [],
   "source": [
    "from transformers import pipeline"
   ]
  },
  {
   "cell_type": "code",
   "execution_count": 5,
   "id": "36aab82c-6e24-4e4c-ba30-f9464b17d760",
   "metadata": {},
   "outputs": [
    {
     "data": {
      "text/plain": [
       "[{'label': '5 stars', 'score': 0.772534966468811}]"
      ]
     },
     "execution_count": 5,
     "metadata": {},
     "output_type": "execute_result"
    }
   ],
   "source": [
    "classifier = pipeline(\"sentiment-analysis\", model=pt_model, tokenizer=pt_tokenizer)\n",
    "classifier(\"We are very happy to show you the 🤗 Transformers library.\")"
   ]
  },
  {
   "cell_type": "code",
   "execution_count": null,
   "id": "fd8a6dce-4def-48f3-98ef-1953905c2d8b",
   "metadata": {},
   "outputs": [
    {
     "name": "stdout",
     "output_type": "stream",
     "text": [
      "huggingface/tokenizers: The current process just got forked, after parallelism has already been used. Disabling parallelism to avoid deadlocks...\n",
      "To disable this warning, you can either:\n",
      "\t- Avoid using `tokenizers` before the fork if possible\n",
      "\t- Explicitly set the environment variable TOKENIZERS_PARALLELISM=(true | false)\n"
     ]
    }
   ],
   "source": [
    "import os\n",
    " \n",
    "pid = os.getpid()\n",
    "!kill -9 $pid"
   ]
  },
  {
   "cell_type": "code",
   "execution_count": null,
   "id": "c2cc4b4c-7bf0-4218-a984-eaf28ff0bc06",
   "metadata": {},
   "outputs": [],
   "source": []
  }
 ],
 "metadata": {
  "kernelspec": {
   "display_name": "llm_inference",
   "language": "python",
   "name": "llm_inference"
  },
  "language_info": {
   "codemirror_mode": {
    "name": "ipython",
    "version": 3
   },
   "file_extension": ".py",
   "mimetype": "text/x-python",
   "name": "python",
   "nbconvert_exporter": "python",
   "pygments_lexer": "ipython3",
   "version": "3.8.16"
  }
 },
 "nbformat": 4,
 "nbformat_minor": 5
}
