{
 "cells": [
  {
   "cell_type": "code",
   "execution_count": 3,
   "id": "33cb1f20-b58d-4f21-a9fe-9e863a36fd32",
   "metadata": {},
   "outputs": [
    {
     "name": "stdout",
     "output_type": "stream",
     "text": [
      "aaa\n"
     ]
    }
   ],
   "source": [
    "# %load main.py\n",
    "import os\n",
    "from argparse import ArgumentParser\n",
    "import math\n",
    "import os\n",
    "import time\n",
    "\n",
    "parser = ArgumentParser()\n",
    "\n",
    "parser.add_argument(\"--name\", required=True, type=str, help=\"model_name\")\n",
    "parser.add_argument(\"--checkpoint_path\", required=False, default=None, type=str, help=\"model checkpoint path\")\n",
    "parser.add_argument(\"--save_mp_checkpoint_path\", required=False, default=None, type=str, help=\"save-path to store the new model checkpoint\")\n",
    "parser.add_argument(\"--batch_size\", default=1, type=int, help=\"batch size\")\n",
    "parser.add_argument(\"--dtype\", default=\"float16\", type=str, choices=[\"float32\", \"float16\", \"int8\"], help=\"data-type\")\n",
    "parser.add_argument(\"--ds_inference\", action='store_true', help=\"enable ds-inference\")\n",
    "parser.add_argument(\"--use_kernel\", action='store_true', help=\"enable kernel-injection\")\n",
    "parser.add_argument(\"--replace_method\", required=False, default='', type=str, help=\"replace method['', 'auto']\")\n",
    "parser.add_argument(\"--max_tokens\", default=1024, type=int, help=\"maximum tokens used for the text-generation KV-cache\")\n",
    "parser.add_argument(\"--max_new_tokens\", default=50, type=int, help=\"maximum new tokens to generate\")\n",
    "parser.add_argument(\"--greedy\", action='store_true', help=\"greedy generation mode\")\n",
    "parser.add_argument(\"--use_meta_tensor\", action='store_true', help=\"use the meta tensors to initialize model\")\n",
    "parser.add_argument(\"--use_cache\", default=True, type=bool, help=\"use cache for generation\")\n",
    "parser.add_argument(\"--test_performance\", action='store_true', help=\"enable latency, bandwidth, and throughout testing\")\n",
    "parser.add_argument(\"--local_rank\", type=int, default=0, help=\"local rank\")\n",
    "# args = parser.parse_args()\n",
    "\n",
    "\n",
    "world_size = int(os.getenv('WORLD_SIZE', '1'))\n",
    "local_rank = int(os.getenv('LOCAL_RANK', '0'))\n",
    "\n",
    "if __name__ == '__main__':\n",
    "    print(\"aaa\")"
   ]
  },
  {
   "cell_type": "code",
   "execution_count": null,
   "id": "7cc5fea3-4c3b-4989-b8da-6fd6ef1243d0",
   "metadata": {},
   "outputs": [],
   "source": []
  }
 ],
 "metadata": {
  "kernelspec": {
   "display_name": "llm_inference",
   "language": "python",
   "name": "llm_inference"
  },
  "language_info": {
   "codemirror_mode": {
    "name": "ipython",
    "version": 3
   },
   "file_extension": ".py",
   "mimetype": "text/x-python",
   "name": "python",
   "nbconvert_exporter": "python",
   "pygments_lexer": "ipython3",
   "version": "3.8.16"
  }
 },
 "nbformat": 4,
 "nbformat_minor": 5
}
